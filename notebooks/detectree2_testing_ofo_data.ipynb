{
 "cells": [
  {
   "cell_type": "markdown",
   "id": "575dc26b-16ab-4df1-83bc-ae35c0c411ff",
   "metadata": {},
   "source": [
    "Testing pretrained Detectree2 model weights on OFO data\n",
    "--------"
   ]
  },
  {
   "cell_type": "code",
   "execution_count": 1,
   "id": "8c11be7c-481a-45ef-9803-182180547f89",
   "metadata": {},
   "outputs": [
    {
     "name": "stderr",
     "output_type": "stream",
     "text": [
      "ERROR 1: PROJ: proj_create_from_database: Open of /ofo-share/repos-amritha/conda/envs/dtree2/share/proj failed\n"
     ]
    }
   ],
   "source": [
    "from detectree2.models.outputs import project_to_geojson, stitch_crowns, clean_crowns\n",
    "from detectree2.models.predict import predict_on_data\n",
    "from detectron2.engine import DefaultPredictor\n",
    "from detectree2.preprocessing.tiling import tile_data\n",
    "from detectree2.models.train import setup_cfg"
   ]
  },
  {
   "cell_type": "code",
   "execution_count": 4,
   "id": "57b7f8e8-f503-4eeb-91b1-e4b85c7072d7",
   "metadata": {},
   "outputs": [],
   "source": [
    "import rasterio\n",
    "import geopandas as gpd"
   ]
  },
  {
   "cell_type": "code",
   "execution_count": 64,
   "id": "83f186a9-4a9a-4ec0-a3d8-164cc1d05cfc",
   "metadata": {},
   "outputs": [],
   "source": [
    "trained_model = '/ofo-share/repos-amritha/detectree2-code/230103_randresize_full.pth'  # path to saved weights\n",
    "img_path = '/ofo-share/scratch-amritha/emerald_point_dtree2/ortho.tif'  # orthomosaic path\n",
    "tiles_path = '/ofo-share/scratch-amritha/emerald_point_dtree2/'  # folder to save the extracted tiles"
   ]
  },
  {
   "cell_type": "code",
   "execution_count": 65,
   "id": "3b244ea7-6330-4f2e-8ab1-c1fe909510a0",
   "metadata": {},
   "outputs": [],
   "source": [
    "data = rasterio.open(img_path)"
   ]
  },
  {
   "cell_type": "code",
   "execution_count": 66,
   "id": "ff02dec6-45fd-4609-b822-04f3da5ecaf9",
   "metadata": {},
   "outputs": [
    {
     "name": "stdout",
     "output_type": "stream",
     "text": [
      "Tiling to 2 total tiles\n"
     ]
    },
    {
     "name": "stderr",
     "output_type": "stream",
     "text": [
      "/ofo-share/repos-amritha/conda/envs/dtree2/lib/python3.10/site-packages/rasterio/mask.py:191: NodataShadowWarning: The dataset's nodata attribute is shadowing the alpha band. All masks will be determined by the nodata attribute\n",
      "  out_image = dataset.read(\n"
     ]
    },
    {
     "name": "stdout",
     "output_type": "stream",
     "text": [
      "Tiling complete\n"
     ]
    }
   ],
   "source": [
    "buffer = 30  # buffer size around each tile\n",
    "tile_width = 100\n",
    "tile_height = 100\n",
    "tiles_path = tiles_path +'tiles_'+ str(buffer) +'_'+ str(tile_width) +'_'+ str(tile_height) +'/'\n",
    "tile_data(data, tiles_path, buffer, tile_width, tile_height, dtype_bool = True)"
   ]
  },
  {
   "cell_type": "code",
   "execution_count": 68,
   "id": "49f48636-bc4c-4a5b-80e0-17974e3937e2",
   "metadata": {},
   "outputs": [
    {
     "name": "stderr",
     "output_type": "stream",
     "text": [
      "/ofo-share/repos-amritha/conda/envs/dtree2/lib/python3.10/site-packages/fvcore/common/checkpoint.py:252: FutureWarning: You are using `torch.load` with `weights_only=False` (the current default value), which uses the default pickle module implicitly. It is possible to construct malicious pickle data which will execute arbitrary code during unpickling (See https://github.com/pytorch/pytorch/blob/main/SECURITY.md#untrusted-models for more details). In a future release, the default value for `weights_only` will be flipped to `True`. This limits the functions that could be executed during unpickling. Arbitrary objects will no longer be allowed to be loaded via this mode unless they are explicitly allowlisted by the user via `torch.serialization.add_safe_globals`. We recommend you start setting `weights_only=True` for any use case where you don't have full control of the loaded file. Please open an issue on GitHub for any issues related to this experimental feature.\n",
      "  return torch.load(f, map_location=torch.device(\"cpu\"))\n"
     ]
    },
    {
     "name": "stdout",
     "output_type": "stream",
     "text": [
      "Predicting 1 files\n"
     ]
    }
   ],
   "source": [
    "cfg = setup_cfg(update_model = trained_model)\n",
    "predict_on_data(tiles_path, predictor = DefaultPredictor(cfg))"
   ]
  },
  {
   "cell_type": "code",
   "execution_count": 69,
   "id": "781f54fa-f3e4-47dc-a398-7b494acf3bd8",
   "metadata": {},
   "outputs": [
    {
     "name": "stdout",
     "output_type": "stream",
     "text": [
      "Projecting 1 files\n"
     ]
    }
   ],
   "source": [
    "project_to_geojson(tiles_path, tiles_path + \"predictions/\", tiles_path + \"predictions_geo/\")"
   ]
  },
  {
   "cell_type": "code",
   "execution_count": 70,
   "id": "508a45f9-2d74-4c47-9adf-8aedff523f68",
   "metadata": {},
   "outputs": [
    {
     "name": "stdout",
     "output_type": "stream",
     "text": [
      "Cleaning 87 crowns\n",
      "0 / 87 crowns cleaned\n"
     ]
    }
   ],
   "source": [
    "crowns = stitch_crowns(tiles_path + \"predictions_geo/\", 1) # stitch together predicted crowns from folder w geojson files\n",
    "clean = clean_crowns(crowns, 0.7, confidence = 0) # set a confidence > 0 to filter out less confident crowns, IoU thresh 0.7"
   ]
  },
  {
   "cell_type": "code",
   "execution_count": 72,
   "id": "22d11bdd-2034-4095-ba43-118d7b4b393d",
   "metadata": {},
   "outputs": [],
   "source": [
    "clean = clean[clean[\"Confidence_score\"] > 0.5]  "
   ]
  },
  {
   "cell_type": "code",
   "execution_count": 75,
   "id": "ec1ceaed-e935-4231-9f7b-1de9398d6bd0",
   "metadata": {},
   "outputs": [],
   "source": [
    "clean = clean.set_geometry(clean.simplify(0.6))"
   ]
  },
  {
   "cell_type": "code",
   "execution_count": 78,
   "id": "84d02ffe-fb26-4220-b535-584ab2944277",
   "metadata": {},
   "outputs": [],
   "source": [
    "clean.to_file(tiles_path + \"/crowns_out_iou07_conf05.gpkg\")"
   ]
  },
  {
   "cell_type": "code",
   "execution_count": null,
   "id": "015f3a4f-cc20-41c4-8c35-a7e24041b471",
   "metadata": {},
   "outputs": [],
   "source": []
  }
 ],
 "metadata": {
  "kernelspec": {
   "display_name": "Python (dtree2)",
   "language": "python",
   "name": "dtree2"
  },
  "language_info": {
   "codemirror_mode": {
    "name": "ipython",
    "version": 3
   },
   "file_extension": ".py",
   "mimetype": "text/x-python",
   "name": "python",
   "nbconvert_exporter": "python",
   "pygments_lexer": "ipython3",
   "version": "3.10.13"
  }
 },
 "nbformat": 4,
 "nbformat_minor": 5
}
