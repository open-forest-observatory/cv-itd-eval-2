{
 "cells": [
  {
   "cell_type": "markdown",
   "id": "575dc26b-16ab-4df1-83bc-ae35c0c411ff",
   "metadata": {},
   "source": [
    "Testing pretrained Detectree2 model weights on OFO data\n",
    "--------"
   ]
  },
  {
   "cell_type": "code",
   "execution_count": 1,
   "id": "8c11be7c-481a-45ef-9803-182180547f89",
   "metadata": {},
   "outputs": [
    {
     "name": "stderr",
     "output_type": "stream",
     "text": [
      "ERROR 1: PROJ: proj_create_from_database: Open of /ofo-share/repos-amritha/conda/envs/dtree2/share/proj failed\n"
     ]
    }
   ],
   "source": [
    "from detectree2.models.outputs import project_to_geojson, stitch_crowns, clean_crowns\n",
    "from detectree2.models.predict import predict_on_data\n",
    "from detectron2.engine import DefaultPredictor\n",
    "from detectree2.preprocessing.tiling import tile_data\n",
    "from detectree2.models.train import setup_cfg"
   ]
  },
  {
   "cell_type": "code",
   "execution_count": 2,
   "id": "57b7f8e8-f503-4eeb-91b1-e4b85c7072d7",
   "metadata": {},
   "outputs": [],
   "source": [
    "import rasterio\n",
    "import geopandas as gpd"
   ]
  },
  {
   "cell_type": "code",
   "execution_count": 3,
   "id": "83f186a9-4a9a-4ec0-a3d8-164cc1d05cfc",
   "metadata": {},
   "outputs": [],
   "source": [
    "#trained_model = '/ofo-share/scratch-amritha/emerald_point_dtree2/dataset/train_outputs/model_6.pth' #finetuned\n",
    "trained_model = '/ofo-share/repos-amritha/detectree2-code/230103_randresize_full.pth'  # path to saved weights\n",
    "img_path = '/ofo-share/scratch-amritha/emerald_point_dtree2/dataset/rgb/ortho.tif'  # orthomosaic path\n",
    "tiles_path = '/ofo-share/scratch-amritha/emerald_point_dtree2/finetuned/tiles/'  # folder to save the extracted tiles"
   ]
  },
  {
   "cell_type": "code",
   "execution_count": 4,
   "id": "3b244ea7-6330-4f2e-8ab1-c1fe909510a0",
   "metadata": {},
   "outputs": [],
   "source": [
    "data = rasterio.open(img_path)"
   ]
  },
  {
   "cell_type": "code",
   "execution_count": 5,
   "id": "ff02dec6-45fd-4609-b822-04f3da5ecaf9",
   "metadata": {
    "scrolled": true
   },
   "outputs": [
    {
     "name": "stdout",
     "output_type": "stream",
     "text": [
      "Tiling to 110 total tiles\n"
     ]
    },
    {
     "name": "stderr",
     "output_type": "stream",
     "text": [
      "/ofo-share/repos-amritha/conda/envs/dtree2/lib/python3.10/site-packages/rasterio/mask.py:191: NodataShadowWarning: The dataset's nodata attribute is shadowing the alpha band. All masks will be determined by the nodata attribute\n",
      "  out_image = dataset.read(\n",
      "/ofo-share/repos-amritha/conda/envs/dtree2/lib/python3.10/site-packages/rasterio/mask.py:191: NodataShadowWarning: The dataset's nodata attribute is shadowing the alpha band. All masks will be determined by the nodata attribute\n",
      "  out_image = dataset.read(\n",
      "/ofo-share/repos-amritha/conda/envs/dtree2/lib/python3.10/site-packages/rasterio/mask.py:191: NodataShadowWarning: The dataset's nodata attribute is shadowing the alpha band. All masks will be determined by the nodata attribute\n",
      "  out_image = dataset.read(\n",
      "/ofo-share/repos-amritha/conda/envs/dtree2/lib/python3.10/site-packages/rasterio/mask.py:191: NodataShadowWarning: The dataset's nodata attribute is shadowing the alpha band. All masks will be determined by the nodata attribute\n",
      "  out_image = dataset.read(\n",
      "/ofo-share/repos-amritha/conda/envs/dtree2/lib/python3.10/site-packages/rasterio/mask.py:191: NodataShadowWarning: The dataset's nodata attribute is shadowing the alpha band. All masks will be determined by the nodata attribute\n",
      "  out_image = dataset.read(\n",
      "/ofo-share/repos-amritha/conda/envs/dtree2/lib/python3.10/site-packages/rasterio/mask.py:191: NodataShadowWarning: The dataset's nodata attribute is shadowing the alpha band. All masks will be determined by the nodata attribute\n",
      "  out_image = dataset.read(\n",
      "/ofo-share/repos-amritha/conda/envs/dtree2/lib/python3.10/site-packages/rasterio/mask.py:191: NodataShadowWarning: The dataset's nodata attribute is shadowing the alpha band. All masks will be determined by the nodata attribute\n",
      "  out_image = dataset.read(\n",
      "/ofo-share/repos-amritha/conda/envs/dtree2/lib/python3.10/site-packages/rasterio/mask.py:191: NodataShadowWarning: The dataset's nodata attribute is shadowing the alpha band. All masks will be determined by the nodata attribute\n",
      "  out_image = dataset.read(\n",
      "/ofo-share/repos-amritha/conda/envs/dtree2/lib/python3.10/site-packages/rasterio/mask.py:191: NodataShadowWarning: The dataset's nodata attribute is shadowing the alpha band. All masks will be determined by the nodata attribute\n",
      "  out_image = dataset.read(\n",
      "/ofo-share/repos-amritha/conda/envs/dtree2/lib/python3.10/site-packages/rasterio/mask.py:191: NodataShadowWarning: The dataset's nodata attribute is shadowing the alpha band. All masks will be determined by the nodata attribute\n",
      "  out_image = dataset.read(\n",
      "/ofo-share/repos-amritha/conda/envs/dtree2/lib/python3.10/site-packages/rasterio/mask.py:191: NodataShadowWarning: The dataset's nodata attribute is shadowing the alpha band. All masks will be determined by the nodata attribute\n",
      "  out_image = dataset.read(\n",
      "/ofo-share/repos-amritha/conda/envs/dtree2/lib/python3.10/site-packages/rasterio/mask.py:191: NodataShadowWarning: The dataset's nodata attribute is shadowing the alpha band. All masks will be determined by the nodata attribute\n",
      "  out_image = dataset.read(\n",
      "/ofo-share/repos-amritha/conda/envs/dtree2/lib/python3.10/site-packages/rasterio/mask.py:191: NodataShadowWarning: The dataset's nodata attribute is shadowing the alpha band. All masks will be determined by the nodata attribute\n",
      "  out_image = dataset.read(\n",
      "/ofo-share/repos-amritha/conda/envs/dtree2/lib/python3.10/site-packages/rasterio/mask.py:191: NodataShadowWarning: The dataset's nodata attribute is shadowing the alpha band. All masks will be determined by the nodata attribute\n",
      "  out_image = dataset.read(\n",
      "/ofo-share/repos-amritha/conda/envs/dtree2/lib/python3.10/site-packages/rasterio/mask.py:191: NodataShadowWarning: The dataset's nodata attribute is shadowing the alpha band. All masks will be determined by the nodata attribute\n",
      "  out_image = dataset.read(\n",
      "/ofo-share/repos-amritha/conda/envs/dtree2/lib/python3.10/site-packages/rasterio/mask.py:191: NodataShadowWarning: The dataset's nodata attribute is shadowing the alpha band. All masks will be determined by the nodata attribute\n",
      "  out_image = dataset.read(\n",
      "/ofo-share/repos-amritha/conda/envs/dtree2/lib/python3.10/site-packages/rasterio/mask.py:191: NodataShadowWarning: The dataset's nodata attribute is shadowing the alpha band. All masks will be determined by the nodata attribute\n",
      "  out_image = dataset.read(\n",
      "/ofo-share/repos-amritha/conda/envs/dtree2/lib/python3.10/site-packages/rasterio/mask.py:191: NodataShadowWarning: The dataset's nodata attribute is shadowing the alpha band. All masks will be determined by the nodata attribute\n",
      "  out_image = dataset.read(\n",
      "/ofo-share/repos-amritha/conda/envs/dtree2/lib/python3.10/site-packages/rasterio/mask.py:191: NodataShadowWarning: The dataset's nodata attribute is shadowing the alpha band. All masks will be determined by the nodata attribute\n",
      "  out_image = dataset.read(\n",
      "/ofo-share/repos-amritha/conda/envs/dtree2/lib/python3.10/site-packages/rasterio/mask.py:191: NodataShadowWarning: The dataset's nodata attribute is shadowing the alpha band. All masks will be determined by the nodata attribute\n",
      "  out_image = dataset.read(\n",
      "/ofo-share/repos-amritha/conda/envs/dtree2/lib/python3.10/site-packages/rasterio/mask.py:191: NodataShadowWarning: The dataset's nodata attribute is shadowing the alpha band. All masks will be determined by the nodata attribute\n",
      "  out_image = dataset.read(\n",
      "/ofo-share/repos-amritha/conda/envs/dtree2/lib/python3.10/site-packages/rasterio/mask.py:191: NodataShadowWarning: The dataset's nodata attribute is shadowing the alpha band. All masks will be determined by the nodata attribute\n",
      "  out_image = dataset.read(\n",
      "/ofo-share/repos-amritha/conda/envs/dtree2/lib/python3.10/site-packages/rasterio/mask.py:191: NodataShadowWarning: The dataset's nodata attribute is shadowing the alpha band. All masks will be determined by the nodata attribute\n",
      "  out_image = dataset.read(\n",
      "/ofo-share/repos-amritha/conda/envs/dtree2/lib/python3.10/site-packages/rasterio/mask.py:191: NodataShadowWarning: The dataset's nodata attribute is shadowing the alpha band. All masks will be determined by the nodata attribute\n",
      "  out_image = dataset.read(\n",
      "/ofo-share/repos-amritha/conda/envs/dtree2/lib/python3.10/site-packages/rasterio/mask.py:191: NodataShadowWarning: The dataset's nodata attribute is shadowing the alpha band. All masks will be determined by the nodata attribute\n",
      "  out_image = dataset.read(\n",
      "/ofo-share/repos-amritha/conda/envs/dtree2/lib/python3.10/site-packages/rasterio/mask.py:191: NodataShadowWarning: The dataset's nodata attribute is shadowing the alpha band. All masks will be determined by the nodata attribute\n",
      "  out_image = dataset.read(\n",
      "/ofo-share/repos-amritha/conda/envs/dtree2/lib/python3.10/site-packages/rasterio/mask.py:191: NodataShadowWarning: The dataset's nodata attribute is shadowing the alpha band. All masks will be determined by the nodata attribute\n",
      "  out_image = dataset.read(\n",
      "/ofo-share/repos-amritha/conda/envs/dtree2/lib/python3.10/site-packages/rasterio/mask.py:191: NodataShadowWarning: The dataset's nodata attribute is shadowing the alpha band. All masks will be determined by the nodata attribute\n",
      "  out_image = dataset.read(\n",
      "/ofo-share/repos-amritha/conda/envs/dtree2/lib/python3.10/site-packages/rasterio/mask.py:191: NodataShadowWarning: The dataset's nodata attribute is shadowing the alpha band. All masks will be determined by the nodata attribute\n",
      "  out_image = dataset.read(\n",
      "/ofo-share/repos-amritha/conda/envs/dtree2/lib/python3.10/site-packages/rasterio/mask.py:191: NodataShadowWarning: The dataset's nodata attribute is shadowing the alpha band. All masks will be determined by the nodata attribute\n",
      "  out_image = dataset.read(\n",
      "/ofo-share/repos-amritha/conda/envs/dtree2/lib/python3.10/site-packages/rasterio/mask.py:191: NodataShadowWarning: The dataset's nodata attribute is shadowing the alpha band. All masks will be determined by the nodata attribute\n",
      "  out_image = dataset.read(\n",
      "/ofo-share/repos-amritha/conda/envs/dtree2/lib/python3.10/site-packages/rasterio/mask.py:191: NodataShadowWarning: The dataset's nodata attribute is shadowing the alpha band. All masks will be determined by the nodata attribute\n",
      "  out_image = dataset.read(\n",
      "/ofo-share/repos-amritha/conda/envs/dtree2/lib/python3.10/site-packages/rasterio/mask.py:191: NodataShadowWarning: The dataset's nodata attribute is shadowing the alpha band. All masks will be determined by the nodata attribute\n",
      "  out_image = dataset.read(\n",
      "/ofo-share/repos-amritha/conda/envs/dtree2/lib/python3.10/site-packages/rasterio/mask.py:191: NodataShadowWarning: The dataset's nodata attribute is shadowing the alpha band. All masks will be determined by the nodata attribute\n",
      "  out_image = dataset.read(\n",
      "/ofo-share/repos-amritha/conda/envs/dtree2/lib/python3.10/site-packages/rasterio/mask.py:191: NodataShadowWarning: The dataset's nodata attribute is shadowing the alpha band. All masks will be determined by the nodata attribute\n",
      "  out_image = dataset.read(\n",
      "/ofo-share/repos-amritha/conda/envs/dtree2/lib/python3.10/site-packages/rasterio/mask.py:191: NodataShadowWarning: The dataset's nodata attribute is shadowing the alpha band. All masks will be determined by the nodata attribute\n",
      "  out_image = dataset.read(\n",
      "/ofo-share/repos-amritha/conda/envs/dtree2/lib/python3.10/site-packages/rasterio/mask.py:191: NodataShadowWarning: The dataset's nodata attribute is shadowing the alpha band. All masks will be determined by the nodata attribute\n",
      "  out_image = dataset.read(\n",
      "/ofo-share/repos-amritha/conda/envs/dtree2/lib/python3.10/site-packages/rasterio/mask.py:191: NodataShadowWarning: The dataset's nodata attribute is shadowing the alpha band. All masks will be determined by the nodata attribute\n",
      "  out_image = dataset.read(\n",
      "/ofo-share/repos-amritha/conda/envs/dtree2/lib/python3.10/site-packages/rasterio/mask.py:191: NodataShadowWarning: The dataset's nodata attribute is shadowing the alpha band. All masks will be determined by the nodata attribute\n",
      "  out_image = dataset.read(\n",
      "/ofo-share/repos-amritha/conda/envs/dtree2/lib/python3.10/site-packages/rasterio/mask.py:191: NodataShadowWarning: The dataset's nodata attribute is shadowing the alpha band. All masks will be determined by the nodata attribute\n",
      "  out_image = dataset.read(\n",
      "/ofo-share/repos-amritha/conda/envs/dtree2/lib/python3.10/site-packages/rasterio/mask.py:191: NodataShadowWarning: The dataset's nodata attribute is shadowing the alpha band. All masks will be determined by the nodata attribute\n",
      "  out_image = dataset.read(\n",
      "/ofo-share/repos-amritha/conda/envs/dtree2/lib/python3.10/site-packages/rasterio/mask.py:191: NodataShadowWarning: The dataset's nodata attribute is shadowing the alpha band. All masks will be determined by the nodata attribute\n",
      "  out_image = dataset.read(\n",
      "/ofo-share/repos-amritha/conda/envs/dtree2/lib/python3.10/site-packages/rasterio/mask.py:191: NodataShadowWarning: The dataset's nodata attribute is shadowing the alpha band. All masks will be determined by the nodata attribute\n",
      "  out_image = dataset.read(\n",
      "/ofo-share/repos-amritha/conda/envs/dtree2/lib/python3.10/site-packages/rasterio/mask.py:191: NodataShadowWarning: The dataset's nodata attribute is shadowing the alpha band. All masks will be determined by the nodata attribute\n",
      "  out_image = dataset.read(\n",
      "/ofo-share/repos-amritha/conda/envs/dtree2/lib/python3.10/site-packages/rasterio/mask.py:191: NodataShadowWarning: The dataset's nodata attribute is shadowing the alpha band. All masks will be determined by the nodata attribute\n",
      "  out_image = dataset.read(\n",
      "/ofo-share/repos-amritha/conda/envs/dtree2/lib/python3.10/site-packages/rasterio/mask.py:191: NodataShadowWarning: The dataset's nodata attribute is shadowing the alpha band. All masks will be determined by the nodata attribute\n",
      "  out_image = dataset.read(\n",
      "/ofo-share/repos-amritha/conda/envs/dtree2/lib/python3.10/site-packages/rasterio/mask.py:191: NodataShadowWarning: The dataset's nodata attribute is shadowing the alpha band. All masks will be determined by the nodata attribute\n",
      "  out_image = dataset.read(\n",
      "/ofo-share/repos-amritha/conda/envs/dtree2/lib/python3.10/site-packages/rasterio/mask.py:191: NodataShadowWarning: The dataset's nodata attribute is shadowing the alpha band. All masks will be determined by the nodata attribute\n",
      "  out_image = dataset.read(\n",
      "/ofo-share/repos-amritha/conda/envs/dtree2/lib/python3.10/site-packages/rasterio/mask.py:191: NodataShadowWarning: The dataset's nodata attribute is shadowing the alpha band. All masks will be determined by the nodata attribute\n",
      "  out_image = dataset.read(\n",
      "/ofo-share/repos-amritha/conda/envs/dtree2/lib/python3.10/site-packages/rasterio/mask.py:191: NodataShadowWarning: The dataset's nodata attribute is shadowing the alpha band. All masks will be determined by the nodata attribute\n",
      "  out_image = dataset.read(\n"
     ]
    },
    {
     "name": "stdout",
     "output_type": "stream",
     "text": [
      "Processed 50 tiles of 110 tiles\n"
     ]
    },
    {
     "name": "stderr",
     "output_type": "stream",
     "text": [
      "/ofo-share/repos-amritha/conda/envs/dtree2/lib/python3.10/site-packages/rasterio/mask.py:191: NodataShadowWarning: The dataset's nodata attribute is shadowing the alpha band. All masks will be determined by the nodata attribute\n",
      "  out_image = dataset.read(\n",
      "/ofo-share/repos-amritha/conda/envs/dtree2/lib/python3.10/site-packages/rasterio/mask.py:191: NodataShadowWarning: The dataset's nodata attribute is shadowing the alpha band. All masks will be determined by the nodata attribute\n",
      "  out_image = dataset.read(\n",
      "/ofo-share/repos-amritha/conda/envs/dtree2/lib/python3.10/site-packages/rasterio/mask.py:191: NodataShadowWarning: The dataset's nodata attribute is shadowing the alpha band. All masks will be determined by the nodata attribute\n",
      "  out_image = dataset.read(\n",
      "/ofo-share/repos-amritha/conda/envs/dtree2/lib/python3.10/site-packages/rasterio/mask.py:191: NodataShadowWarning: The dataset's nodata attribute is shadowing the alpha band. All masks will be determined by the nodata attribute\n",
      "  out_image = dataset.read(\n",
      "/ofo-share/repos-amritha/conda/envs/dtree2/lib/python3.10/site-packages/rasterio/mask.py:191: NodataShadowWarning: The dataset's nodata attribute is shadowing the alpha band. All masks will be determined by the nodata attribute\n",
      "  out_image = dataset.read(\n",
      "/ofo-share/repos-amritha/conda/envs/dtree2/lib/python3.10/site-packages/rasterio/mask.py:191: NodataShadowWarning: The dataset's nodata attribute is shadowing the alpha band. All masks will be determined by the nodata attribute\n",
      "  out_image = dataset.read(\n",
      "/ofo-share/repos-amritha/conda/envs/dtree2/lib/python3.10/site-packages/rasterio/mask.py:191: NodataShadowWarning: The dataset's nodata attribute is shadowing the alpha band. All masks will be determined by the nodata attribute\n",
      "  out_image = dataset.read(\n",
      "/ofo-share/repos-amritha/conda/envs/dtree2/lib/python3.10/site-packages/rasterio/mask.py:191: NodataShadowWarning: The dataset's nodata attribute is shadowing the alpha band. All masks will be determined by the nodata attribute\n",
      "  out_image = dataset.read(\n",
      "/ofo-share/repos-amritha/conda/envs/dtree2/lib/python3.10/site-packages/rasterio/mask.py:191: NodataShadowWarning: The dataset's nodata attribute is shadowing the alpha band. All masks will be determined by the nodata attribute\n",
      "  out_image = dataset.read(\n",
      "/ofo-share/repos-amritha/conda/envs/dtree2/lib/python3.10/site-packages/rasterio/mask.py:191: NodataShadowWarning: The dataset's nodata attribute is shadowing the alpha band. All masks will be determined by the nodata attribute\n",
      "  out_image = dataset.read(\n",
      "/ofo-share/repos-amritha/conda/envs/dtree2/lib/python3.10/site-packages/rasterio/mask.py:191: NodataShadowWarning: The dataset's nodata attribute is shadowing the alpha band. All masks will be determined by the nodata attribute\n",
      "  out_image = dataset.read(\n",
      "/ofo-share/repos-amritha/conda/envs/dtree2/lib/python3.10/site-packages/rasterio/mask.py:191: NodataShadowWarning: The dataset's nodata attribute is shadowing the alpha band. All masks will be determined by the nodata attribute\n",
      "  out_image = dataset.read(\n",
      "/ofo-share/repos-amritha/conda/envs/dtree2/lib/python3.10/site-packages/rasterio/mask.py:191: NodataShadowWarning: The dataset's nodata attribute is shadowing the alpha band. All masks will be determined by the nodata attribute\n",
      "  out_image = dataset.read(\n",
      "/ofo-share/repos-amritha/conda/envs/dtree2/lib/python3.10/site-packages/rasterio/mask.py:191: NodataShadowWarning: The dataset's nodata attribute is shadowing the alpha band. All masks will be determined by the nodata attribute\n",
      "  out_image = dataset.read(\n",
      "/ofo-share/repos-amritha/conda/envs/dtree2/lib/python3.10/site-packages/rasterio/mask.py:191: NodataShadowWarning: The dataset's nodata attribute is shadowing the alpha band. All masks will be determined by the nodata attribute\n",
      "  out_image = dataset.read(\n",
      "/ofo-share/repos-amritha/conda/envs/dtree2/lib/python3.10/site-packages/rasterio/mask.py:191: NodataShadowWarning: The dataset's nodata attribute is shadowing the alpha band. All masks will be determined by the nodata attribute\n",
      "  out_image = dataset.read(\n",
      "/ofo-share/repos-amritha/conda/envs/dtree2/lib/python3.10/site-packages/rasterio/mask.py:191: NodataShadowWarning: The dataset's nodata attribute is shadowing the alpha band. All masks will be determined by the nodata attribute\n",
      "  out_image = dataset.read(\n",
      "/ofo-share/repos-amritha/conda/envs/dtree2/lib/python3.10/site-packages/rasterio/mask.py:191: NodataShadowWarning: The dataset's nodata attribute is shadowing the alpha band. All masks will be determined by the nodata attribute\n",
      "  out_image = dataset.read(\n",
      "/ofo-share/repos-amritha/conda/envs/dtree2/lib/python3.10/site-packages/rasterio/mask.py:191: NodataShadowWarning: The dataset's nodata attribute is shadowing the alpha band. All masks will be determined by the nodata attribute\n",
      "  out_image = dataset.read(\n",
      "/ofo-share/repos-amritha/conda/envs/dtree2/lib/python3.10/site-packages/rasterio/mask.py:191: NodataShadowWarning: The dataset's nodata attribute is shadowing the alpha band. All masks will be determined by the nodata attribute\n",
      "  out_image = dataset.read(\n",
      "/ofo-share/repos-amritha/conda/envs/dtree2/lib/python3.10/site-packages/rasterio/mask.py:191: NodataShadowWarning: The dataset's nodata attribute is shadowing the alpha band. All masks will be determined by the nodata attribute\n",
      "  out_image = dataset.read(\n",
      "/ofo-share/repos-amritha/conda/envs/dtree2/lib/python3.10/site-packages/rasterio/mask.py:191: NodataShadowWarning: The dataset's nodata attribute is shadowing the alpha band. All masks will be determined by the nodata attribute\n",
      "  out_image = dataset.read(\n",
      "/ofo-share/repos-amritha/conda/envs/dtree2/lib/python3.10/site-packages/rasterio/mask.py:191: NodataShadowWarning: The dataset's nodata attribute is shadowing the alpha band. All masks will be determined by the nodata attribute\n",
      "  out_image = dataset.read(\n",
      "/ofo-share/repos-amritha/conda/envs/dtree2/lib/python3.10/site-packages/rasterio/mask.py:191: NodataShadowWarning: The dataset's nodata attribute is shadowing the alpha band. All masks will be determined by the nodata attribute\n",
      "  out_image = dataset.read(\n",
      "/ofo-share/repos-amritha/conda/envs/dtree2/lib/python3.10/site-packages/rasterio/mask.py:191: NodataShadowWarning: The dataset's nodata attribute is shadowing the alpha band. All masks will be determined by the nodata attribute\n",
      "  out_image = dataset.read(\n",
      "/ofo-share/repos-amritha/conda/envs/dtree2/lib/python3.10/site-packages/rasterio/mask.py:191: NodataShadowWarning: The dataset's nodata attribute is shadowing the alpha band. All masks will be determined by the nodata attribute\n",
      "  out_image = dataset.read(\n",
      "/ofo-share/repos-amritha/conda/envs/dtree2/lib/python3.10/site-packages/rasterio/mask.py:191: NodataShadowWarning: The dataset's nodata attribute is shadowing the alpha band. All masks will be determined by the nodata attribute\n",
      "  out_image = dataset.read(\n",
      "/ofo-share/repos-amritha/conda/envs/dtree2/lib/python3.10/site-packages/rasterio/mask.py:191: NodataShadowWarning: The dataset's nodata attribute is shadowing the alpha band. All masks will be determined by the nodata attribute\n",
      "  out_image = dataset.read(\n",
      "/ofo-share/repos-amritha/conda/envs/dtree2/lib/python3.10/site-packages/rasterio/mask.py:191: NodataShadowWarning: The dataset's nodata attribute is shadowing the alpha band. All masks will be determined by the nodata attribute\n",
      "  out_image = dataset.read(\n",
      "/ofo-share/repos-amritha/conda/envs/dtree2/lib/python3.10/site-packages/rasterio/mask.py:191: NodataShadowWarning: The dataset's nodata attribute is shadowing the alpha band. All masks will be determined by the nodata attribute\n",
      "  out_image = dataset.read(\n",
      "/ofo-share/repos-amritha/conda/envs/dtree2/lib/python3.10/site-packages/rasterio/mask.py:191: NodataShadowWarning: The dataset's nodata attribute is shadowing the alpha band. All masks will be determined by the nodata attribute\n",
      "  out_image = dataset.read(\n",
      "/ofo-share/repos-amritha/conda/envs/dtree2/lib/python3.10/site-packages/rasterio/mask.py:191: NodataShadowWarning: The dataset's nodata attribute is shadowing the alpha band. All masks will be determined by the nodata attribute\n",
      "  out_image = dataset.read(\n",
      "/ofo-share/repos-amritha/conda/envs/dtree2/lib/python3.10/site-packages/rasterio/mask.py:191: NodataShadowWarning: The dataset's nodata attribute is shadowing the alpha band. All masks will be determined by the nodata attribute\n",
      "  out_image = dataset.read(\n",
      "/ofo-share/repos-amritha/conda/envs/dtree2/lib/python3.10/site-packages/rasterio/mask.py:191: NodataShadowWarning: The dataset's nodata attribute is shadowing the alpha band. All masks will be determined by the nodata attribute\n",
      "  out_image = dataset.read(\n",
      "/ofo-share/repos-amritha/conda/envs/dtree2/lib/python3.10/site-packages/rasterio/mask.py:191: NodataShadowWarning: The dataset's nodata attribute is shadowing the alpha band. All masks will be determined by the nodata attribute\n",
      "  out_image = dataset.read(\n",
      "/ofo-share/repos-amritha/conda/envs/dtree2/lib/python3.10/site-packages/rasterio/mask.py:191: NodataShadowWarning: The dataset's nodata attribute is shadowing the alpha band. All masks will be determined by the nodata attribute\n",
      "  out_image = dataset.read(\n",
      "/ofo-share/repos-amritha/conda/envs/dtree2/lib/python3.10/site-packages/rasterio/mask.py:191: NodataShadowWarning: The dataset's nodata attribute is shadowing the alpha band. All masks will be determined by the nodata attribute\n",
      "  out_image = dataset.read(\n",
      "/ofo-share/repos-amritha/conda/envs/dtree2/lib/python3.10/site-packages/rasterio/mask.py:191: NodataShadowWarning: The dataset's nodata attribute is shadowing the alpha band. All masks will be determined by the nodata attribute\n",
      "  out_image = dataset.read(\n",
      "/ofo-share/repos-amritha/conda/envs/dtree2/lib/python3.10/site-packages/rasterio/mask.py:191: NodataShadowWarning: The dataset's nodata attribute is shadowing the alpha band. All masks will be determined by the nodata attribute\n",
      "  out_image = dataset.read(\n",
      "/ofo-share/repos-amritha/conda/envs/dtree2/lib/python3.10/site-packages/rasterio/mask.py:191: NodataShadowWarning: The dataset's nodata attribute is shadowing the alpha band. All masks will be determined by the nodata attribute\n",
      "  out_image = dataset.read(\n",
      "/ofo-share/repos-amritha/conda/envs/dtree2/lib/python3.10/site-packages/rasterio/mask.py:191: NodataShadowWarning: The dataset's nodata attribute is shadowing the alpha band. All masks will be determined by the nodata attribute\n",
      "  out_image = dataset.read(\n",
      "/ofo-share/repos-amritha/conda/envs/dtree2/lib/python3.10/site-packages/rasterio/mask.py:191: NodataShadowWarning: The dataset's nodata attribute is shadowing the alpha band. All masks will be determined by the nodata attribute\n",
      "  out_image = dataset.read(\n",
      "/ofo-share/repos-amritha/conda/envs/dtree2/lib/python3.10/site-packages/rasterio/mask.py:191: NodataShadowWarning: The dataset's nodata attribute is shadowing the alpha band. All masks will be determined by the nodata attribute\n",
      "  out_image = dataset.read(\n",
      "/ofo-share/repos-amritha/conda/envs/dtree2/lib/python3.10/site-packages/rasterio/mask.py:191: NodataShadowWarning: The dataset's nodata attribute is shadowing the alpha band. All masks will be determined by the nodata attribute\n",
      "  out_image = dataset.read(\n",
      "/ofo-share/repos-amritha/conda/envs/dtree2/lib/python3.10/site-packages/rasterio/mask.py:191: NodataShadowWarning: The dataset's nodata attribute is shadowing the alpha band. All masks will be determined by the nodata attribute\n",
      "  out_image = dataset.read(\n",
      "/ofo-share/repos-amritha/conda/envs/dtree2/lib/python3.10/site-packages/rasterio/mask.py:191: NodataShadowWarning: The dataset's nodata attribute is shadowing the alpha band. All masks will be determined by the nodata attribute\n",
      "  out_image = dataset.read(\n",
      "/ofo-share/repos-amritha/conda/envs/dtree2/lib/python3.10/site-packages/rasterio/mask.py:191: NodataShadowWarning: The dataset's nodata attribute is shadowing the alpha band. All masks will be determined by the nodata attribute\n",
      "  out_image = dataset.read(\n",
      "/ofo-share/repos-amritha/conda/envs/dtree2/lib/python3.10/site-packages/rasterio/mask.py:191: NodataShadowWarning: The dataset's nodata attribute is shadowing the alpha band. All masks will be determined by the nodata attribute\n",
      "  out_image = dataset.read(\n",
      "/ofo-share/repos-amritha/conda/envs/dtree2/lib/python3.10/site-packages/rasterio/mask.py:191: NodataShadowWarning: The dataset's nodata attribute is shadowing the alpha band. All masks will be determined by the nodata attribute\n",
      "  out_image = dataset.read(\n",
      "/ofo-share/repos-amritha/conda/envs/dtree2/lib/python3.10/site-packages/rasterio/mask.py:191: NodataShadowWarning: The dataset's nodata attribute is shadowing the alpha band. All masks will be determined by the nodata attribute\n",
      "  out_image = dataset.read(\n"
     ]
    },
    {
     "name": "stdout",
     "output_type": "stream",
     "text": [
      "Processed 100 tiles of 110 tiles\n",
      "Tiling complete\n"
     ]
    }
   ],
   "source": [
    "buffer = 5  # buffer size around each tile\n",
    "tile_width = 30\n",
    "tile_height = 30\n",
    "tiles_path = tiles_path +'tiles_'+ str(buffer) +'_'+ str(tile_width) +'_'+ str(tile_height) +'/'\n",
    "tile_data(data, tiles_path, buffer, tile_width, tile_height, dtype_bool = True)"
   ]
  },
  {
   "cell_type": "code",
   "execution_count": 7,
   "id": "d8774fff-d5e1-4572-a85e-0cc8110bdac6",
   "metadata": {},
   "outputs": [],
   "source": [
    "tiles_path = \"/ofo-share/scratch-amritha/emerald_point_dtree2/tiles_5_30_30/\""
   ]
  },
  {
   "cell_type": "code",
   "execution_count": 8,
   "id": "49f48636-bc4c-4a5b-80e0-17974e3937e2",
   "metadata": {},
   "outputs": [
    {
     "name": "stderr",
     "output_type": "stream",
     "text": [
      "/ofo-share/repos-amritha/conda/envs/dtree2/lib/python3.10/site-packages/fvcore/common/checkpoint.py:252: FutureWarning: You are using `torch.load` with `weights_only=False` (the current default value), which uses the default pickle module implicitly. It is possible to construct malicious pickle data which will execute arbitrary code during unpickling (See https://github.com/pytorch/pytorch/blob/main/SECURITY.md#untrusted-models for more details). In a future release, the default value for `weights_only` will be flipped to `True`. This limits the functions that could be executed during unpickling. Arbitrary objects will no longer be allowed to be loaded via this mode unless they are explicitly allowlisted by the user via `torch.serialization.add_safe_globals`. We recommend you start setting `weights_only=True` for any use case where you don't have full control of the loaded file. Please open an issue on GitHub for any issues related to this experimental feature.\n",
      "  return torch.load(f, map_location=torch.device(\"cpu\"))\n"
     ]
    },
    {
     "name": "stdout",
     "output_type": "stream",
     "text": [
      "Predicting 100 files\n"
     ]
    },
    {
     "name": "stderr",
     "output_type": "stream",
     "text": [
      "/ofo-share/repos-amritha/conda/envs/dtree2/lib/python3.10/site-packages/torch/functional.py:513: UserWarning: torch.meshgrid: in an upcoming release, it will be required to pass the indexing argument. (Triggered internally at ../aten/src/ATen/native/TensorShape.cpp:3609.)\n",
      "  return _VF.meshgrid(tensors, **kwargs)  # type: ignore[attr-defined]\n"
     ]
    },
    {
     "name": "stdout",
     "output_type": "stream",
     "text": [
      "Predicted 50 files of 100\n",
      "Predicted 100 files of 100\n"
     ]
    }
   ],
   "source": [
    "cfg = setup_cfg(update_model = trained_model)\n",
    "predict_on_data(tiles_path, predictor = DefaultPredictor(cfg))"
   ]
  },
  {
   "cell_type": "code",
   "execution_count": 9,
   "id": "781f54fa-f3e4-47dc-a398-7b494acf3bd8",
   "metadata": {},
   "outputs": [
    {
     "name": "stdout",
     "output_type": "stream",
     "text": [
      "Projecting 100 files\n",
      "Projecting file 50 of 100: /ofo-share/scratch-amritha/emerald_point_dtree2/tiles_5_30_30/predictions/Prediction_ortho_752321_4317119_30_5_26910.json\n",
      "Projecting file 100 of 100: /ofo-share/scratch-amritha/emerald_point_dtree2/tiles_5_30_30/predictions/Prediction_ortho_752471_4317059_30_5_26910.json\n"
     ]
    }
   ],
   "source": [
    "project_to_geojson(tiles_path, tiles_path + \"predictions/\", tiles_path + \"predictions_geo/\")"
   ]
  },
  {
   "cell_type": "code",
   "execution_count": 10,
   "id": "508a45f9-2d74-4c47-9adf-8aedff523f68",
   "metadata": {},
   "outputs": [
    {
     "name": "stdout",
     "output_type": "stream",
     "text": [
      "Stitching file 50 of 100: /ofo-share/scratch-amritha/emerald_point_dtree2/tiles_5_30_30/predictions_geo/Prediction_ortho_752471_4317029_30_5_26910.geojson\n",
      "Stitching file 100 of 100: /ofo-share/scratch-amritha/emerald_point_dtree2/tiles_5_30_30/predictions_geo/Prediction_ortho_752261_4316999_30_5_26910.geojson\n",
      "Cleaning 5488 crowns\n",
      "0 / 5488 crowns cleaned\n",
      "1000 / 5488 crowns cleaned\n",
      "2000 / 5488 crowns cleaned\n",
      "3000 / 5488 crowns cleaned\n",
      "4000 / 5488 crowns cleaned\n",
      "5000 / 5488 crowns cleaned\n"
     ]
    }
   ],
   "source": [
    "crowns = stitch_crowns(tiles_path + \"predictions_geo/\", 1) # stitch together predicted crowns from folder w geojson files\n",
    "clean = clean_crowns(crowns, 0.6, confidence = 0) # set a confidence > 0 to filter out less confident crowns, IoU thresh 0.7"
   ]
  },
  {
   "cell_type": "code",
   "execution_count": 11,
   "id": "22d11bdd-2034-4095-ba43-118d7b4b393d",
   "metadata": {},
   "outputs": [],
   "source": [
    "clean = clean[clean[\"Confidence_score\"] > 0.5]  "
   ]
  },
  {
   "cell_type": "code",
   "execution_count": 12,
   "id": "ec1ceaed-e935-4231-9f7b-1de9398d6bd0",
   "metadata": {},
   "outputs": [],
   "source": [
    "clean = clean.set_geometry(clean.simplify(0.6))"
   ]
  },
  {
   "cell_type": "code",
   "execution_count": 13,
   "id": "84d02ffe-fb26-4220-b535-584ab2944277",
   "metadata": {},
   "outputs": [],
   "source": [
    "clean.to_file(tiles_path + \"/crowns_5_30_iou06_conf05.gpkg\")"
   ]
  },
  {
   "cell_type": "markdown",
   "id": "7bcb85e6-0da8-4567-8ffd-5eddb52fb141",
   "metadata": {},
   "source": [
    "Loading tiles from path\n",
    "--"
   ]
  },
  {
   "cell_type": "code",
   "execution_count": 4,
   "id": "28e94689-b087-4f2f-8497-590b0f496c61",
   "metadata": {},
   "outputs": [
    {
     "name": "stdout",
     "output_type": "stream",
     "text": [
      "Stitching file 50 of 240: /ofo-share/scratch-amritha/emerald_point_dtree2/tiles_5_20_20/predictions_geo/Prediction_ortho_752361_4317179_20_5_26910.geojson\n",
      "Stitching file 100 of 240: /ofo-share/scratch-amritha/emerald_point_dtree2/tiles_5_20_20/predictions_geo/Prediction_ortho_752261_4317079_20_5_26910.geojson\n",
      "Stitching file 150 of 240: /ofo-share/scratch-amritha/emerald_point_dtree2/tiles_5_20_20/predictions_geo/Prediction_ortho_752301_4316979_20_5_26910.geojson\n",
      "Stitching file 200 of 240: /ofo-share/scratch-amritha/emerald_point_dtree2/tiles_5_20_20/predictions_geo/Prediction_ortho_752321_4317059_20_5_26910.geojson\n",
      "Cleaning 11590 crowns\n",
      "0 / 11590 crowns cleaned\n",
      "1000 / 11590 crowns cleaned\n",
      "2000 / 11590 crowns cleaned\n",
      "3000 / 11590 crowns cleaned\n",
      "4000 / 11590 crowns cleaned\n",
      "5000 / 11590 crowns cleaned\n",
      "6000 / 11590 crowns cleaned\n",
      "7000 / 11590 crowns cleaned\n",
      "8000 / 11590 crowns cleaned\n",
      "9000 / 11590 crowns cleaned\n",
      "10000 / 11590 crowns cleaned\n",
      "11000 / 11590 crowns cleaned\n"
     ]
    }
   ],
   "source": [
    "crowns = stitch_crowns('/ofo-share/scratch-amritha/emerald_point_dtree2/tiles_5_20_20/' + \"predictions_geo/\", 1) # stitch together predicted crowns from folder w geojson files\n",
    "clean = clean_crowns(crowns, 0.6, confidence = 0) # set a confidence > 0 to filter out less confident crowns, IoU thresh 0.7"
   ]
  },
  {
   "cell_type": "code",
   "execution_count": 5,
   "id": "bb1b0691-b03e-4cdf-b727-9022601d4111",
   "metadata": {},
   "outputs": [],
   "source": [
    "clean = clean[clean[\"Confidence_score\"] > 0.5]  \n",
    "clean = clean.set_geometry(clean.simplify(0.6))\n",
    "clean.to_file('/ofo-share/scratch-amritha/emerald_point_dtree2/tiles_5_20_20' + \"/crowns_5_20_iou06_conf05.gpkg\")"
   ]
  },
  {
   "cell_type": "code",
   "execution_count": null,
   "id": "3963b1d0-b84e-472d-99a8-61456c42ccca",
   "metadata": {},
   "outputs": [],
   "source": []
  }
 ],
 "metadata": {
  "kernelspec": {
   "display_name": "Python (dtree2)",
   "language": "python",
   "name": "dtree2"
  },
  "language_info": {
   "codemirror_mode": {
    "name": "ipython",
    "version": 3
   },
   "file_extension": ".py",
   "mimetype": "text/x-python",
   "name": "python",
   "nbconvert_exporter": "python",
   "pygments_lexer": "ipython3",
   "version": "3.10.13"
  }
 },
 "nbformat": 4,
 "nbformat_minor": 5
}
