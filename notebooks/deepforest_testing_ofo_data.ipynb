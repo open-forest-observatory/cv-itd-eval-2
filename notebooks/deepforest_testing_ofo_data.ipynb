{
 "cells": [
  {
   "cell_type": "code",
   "execution_count": 1,
   "id": "c6b3a49d-1950-4f44-bfdf-d08a4c0e098d",
   "metadata": {},
   "outputs": [
    {
     "name": "stderr",
     "output_type": "stream",
     "text": [
      "INFO:albumentations.check_version:A new version of Albumentations is available: 1.4.14 (you have 1.4.13). Upgrade using: pip install -U albumentations. To disable automatic update checks, set the environment variable NO_ALBUMENTATIONS_UPDATE to 1.\n"
     ]
    }
   ],
   "source": [
    "from deepforest import main\n",
    "from deepforest import get_data\n",
    "import os\n",
    "import matplotlib.pyplot as plt \n",
    "import cv2\n",
    "import pandas as pd\n",
    "import numpy as np"
   ]
  },
  {
   "cell_type": "code",
   "execution_count": 4,
   "id": "498aef37-d3f4-49ae-ab6d-e3d8b1571c7f",
   "metadata": {},
   "outputs": [],
   "source": [
    "def display(img,cmap=None):\n",
    "    fig = plt.figure(figsize=(10,8))\n",
    "    ax = fig.add_subplot(111)\n",
    "    ax.imshow(img,cmap=cmap)"
   ]
  },
  {
   "cell_type": "code",
   "execution_count": null,
   "id": "2f0a1677-1b38-4676-8693-fffda3f21ac9",
   "metadata": {
    "scrolled": true
   },
   "outputs": [],
   "source": [
    "model = main.deepforest()\n",
    "model.use_release()"
   ]
  },
  {
   "cell_type": "code",
   "execution_count": null,
   "id": "c65c2498-8e25-4c3e-a758-2f23b4dad275",
   "metadata": {},
   "outputs": [],
   "source": [
    "img_df = model.predict_image(path = '/ofo-share/scratch-amritha/saved_cropped_imgs')"
   ]
  },
  {
   "cell_type": "markdown",
   "id": "5345c967-870e-44c2-89a6-09aca1b50486",
   "metadata": {},
   "source": [
    "Testing on tiled data (.jpg)\n",
    "----\n"
   ]
  },
  {
   "cell_type": "code",
   "execution_count": null,
   "id": "bf82c93f-0e88-453c-8ffa-1fbad37c849b",
   "metadata": {},
   "outputs": [],
   "source": [
    "path_to_images = '/ofo-share/scratch-amritha/saved_cropped_imgs'\n",
    "c = 0 \n",
    "for filename in os.listdir(path_to_images):\n",
    "    if filename.endswith('.JPG'):\n",
    "        c += 1\n",
    "        img_path = os.path.join(path_to_images, filename)\n",
    "        img_df = model.predict_image(path = img_path)\n",
    "        img = cv2.imread(img_path)\n",
    "    \n",
    "        for index, row in img_df.iterrows():\n",
    "            xmin, ymin, xmax, ymax = int(row['xmin']), int(row['ymin']), int(row['xmax']), int(row['ymax'])\n",
    "            cv2.rectangle(img, (xmin, ymin), (xmax, ymax), (0, 0, 255), 2)\n",
    "    \n",
    "        display(img[:,:,::-1])\n",
    "    if c > 10:  # set this to the number of tile images you want predictions for\n",
    "        break"
   ]
  },
  {
   "cell_type": "markdown",
   "id": "af1bb7e6-e60e-4eca-8146-6673cb82a012",
   "metadata": {},
   "source": [
    "Using predict_tile on raster data (.tif)\n",
    "---"
   ]
  },
  {
   "cell_type": "code",
   "execution_count": 9,
   "id": "0eb138a9-9a9d-4398-87e9-ed695ebbd45c",
   "metadata": {},
   "outputs": [],
   "source": [
    "path = \"/ofo-share/cv-treedetection-eval_data/photogrammetry-outputs/emerald-point_10a-20230103T2008/ortho.tif\""
   ]
  },
  {
   "cell_type": "code",
   "execution_count": 11,
   "id": "71f3527f-d2d8-4a51-9f7f-d35b5ef350c3",
   "metadata": {},
   "outputs": [],
   "source": [
    "def detect_trees_tile(path, patch_size, patch_overlap):\n",
    "    predicted_raster_df = model.predict_tile(path, return_plot = False, patch_size = patch_size, patch_overlap = patch_overlap)\n",
    "    img = cv2.imread(path)\n",
    "\n",
    "    for index, row in predicted_raster_df.iterrows():\n",
    "        xmin, ymin, xmax, ymax = int(row['xmin']), int(row['ymin']), int(row['xmax']), int(row['ymax'])\n",
    "        cv2.rectangle(img, (xmin, ymin), (xmax, ymax), (0, 0, 255), 2)\n",
    "        \n",
    "    cv2.imwrite('/ofo-share/repos-amritha/deepforest/saved_emerald_tile_predictions/emerald_'+str(patch_size)+'_'+str(patch_overlap)+'.tif', img)"
   ]
  },
  {
   "cell_type": "code",
   "execution_count": 13,
   "id": "f2521b2b-db62-4e1f-83c7-4508e9ac5f63",
   "metadata": {},
   "outputs": [
    {
     "name": "stderr",
     "output_type": "stream",
     "text": [
      "LOCAL_RANK: 0 - CUDA_VISIBLE_DEVICES: [0]\n",
      "/home/apallavoor/anaconda3/lib/python3.11/site-packages/pytorch_lightning/trainer/connectors/data_connector.py:424: The 'predict_dataloader' does not have many workers which may be a bottleneck. Consider increasing the value of the `num_workers` argument` to `num_workers=3` in the `DataLoader` to improve performance.\n"
     ]
    },
    {
     "data": {
      "application/vnd.jupyter.widget-view+json": {
       "model_id": "aabad7f3677f45f6bf291539258bfa2e",
       "version_major": 2,
       "version_minor": 0
      },
      "text/plain": [
       "Predicting: |          | 0/? [00:00<?, ?it/s]"
      ]
     },
     "metadata": {},
     "output_type": "display_data"
    },
    {
     "name": "stdout",
     "output_type": "stream",
     "text": [
      "34667 predictions in overlapping windows, applying non-max supression\n",
      "21561 predictions kept after non-max suppression\n"
     ]
    }
   ],
   "source": [
    "detect_trees_tile(path, 400, 0.25)  "
   ]
  },
  {
   "cell_type": "code",
   "execution_count": 6,
   "id": "cbea807d-f099-4573-8196-02cfe7763343",
   "metadata": {},
   "outputs": [
    {
     "name": "stderr",
     "output_type": "stream",
     "text": [
      "LOCAL_RANK: 0 - CUDA_VISIBLE_DEVICES: [0]\n",
      "/home/apallavoor/anaconda3/lib/python3.11/site-packages/pytorch_lightning/trainer/connectors/data_connector.py:424: The 'predict_dataloader' does not have many workers which may be a bottleneck. Consider increasing the value of the `num_workers` argument` to `num_workers=3` in the `DataLoader` to improve performance.\n"
     ]
    },
    {
     "data": {
      "application/vnd.jupyter.widget-view+json": {
       "model_id": "a3a5f5f0bd6b49ee91ebf2c23ef2c80d",
       "version_major": 2,
       "version_minor": 0
      },
      "text/plain": [
       "Predicting: |          | 0/? [00:00<?, ?it/s]"
      ]
     },
     "metadata": {},
     "output_type": "display_data"
    },
    {
     "name": "stdout",
     "output_type": "stream",
     "text": [
      "144071 predictions in overlapping windows, applying non-max supression\n",
      "52106 predictions kept after non-max suppression\n"
     ]
    },
    {
     "name": "stderr",
     "output_type": "stream",
     "text": [
      "/home/apallavoor/anaconda3/lib/python3.11/site-packages/deepforest/visualize.py:126: UserWarning: No color was provided and the label column is not numeric. Using a single default color.\n",
      "  warnings.warn(\"No color was provided and the label column is not numeric. \"\n"
     ]
    }
   ],
   "source": [
    "raster_path = get_data(\"/ofo-share/cv-treedetection-eval_data/photogrammetry-outputs/emerald-point_10a-20230103T2008/ortho.tif\")\n",
    "predicted_raster = model.predict_tile(raster_path, return_plot = True, patch_size=300,patch_overlap=0.5) #400"
   ]
  },
  {
   "cell_type": "code",
   "execution_count": 12,
   "id": "16a9e87b-6597-4216-8fd2-a282811eb0bc",
   "metadata": {},
   "outputs": [
    {
     "data": {
      "text/plain": [
       "(9790, 9236, 4)"
      ]
     },
     "execution_count": 12,
     "metadata": {},
     "output_type": "execute_result"
    }
   ],
   "source": [
    "t = np.transpose(predicted_raster, (1,2,0))\n",
    "t.shape"
   ]
  },
  {
   "cell_type": "code",
   "execution_count": 4,
   "id": "bf42572c-73ac-45cb-ae5b-28bf67d8a372",
   "metadata": {},
   "outputs": [],
   "source": [
    "raster_path = get_data(\"/ofo-share/cv-treedetection-eval_data/photogrammetry-outputs/emerald-point_10a-20230103T2008/ortho.tif\")\n",
    "#predicted_raster_df = model.predict_tile(raster_path, return_plot = False, patch_size=300,patch_overlap=0.5) #400"
   ]
  },
  {
   "cell_type": "code",
   "execution_count": 6,
   "id": "c48bd514-8968-49c1-8851-b6c9b75a833d",
   "metadata": {},
   "outputs": [
    {
     "data": {
      "text/plain": [
       "str"
      ]
     },
     "execution_count": 6,
     "metadata": {},
     "output_type": "execute_result"
    }
   ],
   "source": [
    "type(raster_path)"
   ]
  },
  {
   "cell_type": "code",
   "execution_count": 16,
   "id": "78706341-007f-4527-bdaf-ace12751de54",
   "metadata": {},
   "outputs": [
    {
     "data": {
      "text/html": [
       "<div>\n",
       "<style scoped>\n",
       "    .dataframe tbody tr th:only-of-type {\n",
       "        vertical-align: middle;\n",
       "    }\n",
       "\n",
       "    .dataframe tbody tr th {\n",
       "        vertical-align: top;\n",
       "    }\n",
       "\n",
       "    .dataframe thead th {\n",
       "        text-align: right;\n",
       "    }\n",
       "</style>\n",
       "<table border=\"1\" class=\"dataframe\">\n",
       "  <thead>\n",
       "    <tr style=\"text-align: right;\">\n",
       "      <th></th>\n",
       "      <th>xmin</th>\n",
       "      <th>ymin</th>\n",
       "      <th>xmax</th>\n",
       "      <th>ymax</th>\n",
       "      <th>label</th>\n",
       "      <th>score</th>\n",
       "      <th>image_path</th>\n",
       "    </tr>\n",
       "  </thead>\n",
       "  <tbody>\n",
       "    <tr>\n",
       "      <th>0</th>\n",
       "      <td>2628.0</td>\n",
       "      <td>2138.0</td>\n",
       "      <td>2720.0</td>\n",
       "      <td>2230.0</td>\n",
       "      <td>Tree</td>\n",
       "      <td>0.793714</td>\n",
       "      <td>ortho.tif</td>\n",
       "    </tr>\n",
       "    <tr>\n",
       "      <th>1</th>\n",
       "      <td>8598.0</td>\n",
       "      <td>1185.0</td>\n",
       "      <td>8682.0</td>\n",
       "      <td>1273.0</td>\n",
       "      <td>Tree</td>\n",
       "      <td>0.779933</td>\n",
       "      <td>ortho.tif</td>\n",
       "    </tr>\n",
       "    <tr>\n",
       "      <th>2</th>\n",
       "      <td>1561.0</td>\n",
       "      <td>1354.0</td>\n",
       "      <td>1658.0</td>\n",
       "      <td>1445.0</td>\n",
       "      <td>Tree</td>\n",
       "      <td>0.772636</td>\n",
       "      <td>ortho.tif</td>\n",
       "    </tr>\n",
       "    <tr>\n",
       "      <th>3</th>\n",
       "      <td>3442.0</td>\n",
       "      <td>2.0</td>\n",
       "      <td>3535.0</td>\n",
       "      <td>96.0</td>\n",
       "      <td>Tree</td>\n",
       "      <td>0.763883</td>\n",
       "      <td>ortho.tif</td>\n",
       "    </tr>\n",
       "    <tr>\n",
       "      <th>4</th>\n",
       "      <td>2155.0</td>\n",
       "      <td>3312.0</td>\n",
       "      <td>2241.0</td>\n",
       "      <td>3398.0</td>\n",
       "      <td>Tree</td>\n",
       "      <td>0.758132</td>\n",
       "      <td>ortho.tif</td>\n",
       "    </tr>\n",
       "    <tr>\n",
       "      <th>...</th>\n",
       "      <td>...</td>\n",
       "      <td>...</td>\n",
       "      <td>...</td>\n",
       "      <td>...</td>\n",
       "      <td>...</td>\n",
       "      <td>...</td>\n",
       "      <td>...</td>\n",
       "    </tr>\n",
       "    <tr>\n",
       "      <th>52101</th>\n",
       "      <td>1895.0</td>\n",
       "      <td>8432.0</td>\n",
       "      <td>1921.0</td>\n",
       "      <td>8464.0</td>\n",
       "      <td>Tree</td>\n",
       "      <td>0.100034</td>\n",
       "      <td>ortho.tif</td>\n",
       "    </tr>\n",
       "    <tr>\n",
       "      <th>52102</th>\n",
       "      <td>8437.0</td>\n",
       "      <td>6632.0</td>\n",
       "      <td>8457.0</td>\n",
       "      <td>6652.0</td>\n",
       "      <td>Tree</td>\n",
       "      <td>0.100021</td>\n",
       "      <td>ortho.tif</td>\n",
       "    </tr>\n",
       "    <tr>\n",
       "      <th>52103</th>\n",
       "      <td>8642.0</td>\n",
       "      <td>2055.0</td>\n",
       "      <td>8684.0</td>\n",
       "      <td>2096.0</td>\n",
       "      <td>Tree</td>\n",
       "      <td>0.100014</td>\n",
       "      <td>ortho.tif</td>\n",
       "    </tr>\n",
       "    <tr>\n",
       "      <th>52104</th>\n",
       "      <td>2442.0</td>\n",
       "      <td>9229.0</td>\n",
       "      <td>2463.0</td>\n",
       "      <td>9251.0</td>\n",
       "      <td>Tree</td>\n",
       "      <td>0.100014</td>\n",
       "      <td>ortho.tif</td>\n",
       "    </tr>\n",
       "    <tr>\n",
       "      <th>52105</th>\n",
       "      <td>4650.0</td>\n",
       "      <td>9045.0</td>\n",
       "      <td>4654.0</td>\n",
       "      <td>9074.0</td>\n",
       "      <td>Tree</td>\n",
       "      <td>0.100007</td>\n",
       "      <td>ortho.tif</td>\n",
       "    </tr>\n",
       "  </tbody>\n",
       "</table>\n",
       "<p>52106 rows × 7 columns</p>\n",
       "</div>"
      ],
      "text/plain": [
       "         xmin    ymin    xmax    ymax label     score image_path\n",
       "0      2628.0  2138.0  2720.0  2230.0  Tree  0.793714  ortho.tif\n",
       "1      8598.0  1185.0  8682.0  1273.0  Tree  0.779933  ortho.tif\n",
       "2      1561.0  1354.0  1658.0  1445.0  Tree  0.772636  ortho.tif\n",
       "3      3442.0     2.0  3535.0    96.0  Tree  0.763883  ortho.tif\n",
       "4      2155.0  3312.0  2241.0  3398.0  Tree  0.758132  ortho.tif\n",
       "...       ...     ...     ...     ...   ...       ...        ...\n",
       "52101  1895.0  8432.0  1921.0  8464.0  Tree  0.100034  ortho.tif\n",
       "52102  8437.0  6632.0  8457.0  6652.0  Tree  0.100021  ortho.tif\n",
       "52103  8642.0  2055.0  8684.0  2096.0  Tree  0.100014  ortho.tif\n",
       "52104  2442.0  9229.0  2463.0  9251.0  Tree  0.100014  ortho.tif\n",
       "52105  4650.0  9045.0  4654.0  9074.0  Tree  0.100007  ortho.tif\n",
       "\n",
       "[52106 rows x 7 columns]"
      ]
     },
     "execution_count": 16,
     "metadata": {},
     "output_type": "execute_result"
    }
   ],
   "source": [
    "predicted_raster_df"
   ]
  },
  {
   "cell_type": "code",
   "execution_count": 17,
   "id": "4b35c25c-3e3e-4366-99c9-661264fe756d",
   "metadata": {},
   "outputs": [],
   "source": [
    "img = cv2.imread(\"/ofo-share/cv-treedetection-eval_data/photogrammetry-outputs/emerald-point_10a-20230103T2008/ortho.tif\")\n",
    "\n",
    "for index, row in predicted_raster_df.iterrows():\n",
    "    xmin, ymin, xmax, ymax = int(row['xmin']), int(row['ymin']), int(row['xmax']), int(row['ymax'])\n",
    "    cv2.rectangle(img, (xmin, ymin), (xmax, ymax), (0, 0, 255), 2)"
   ]
  },
  {
   "cell_type": "code",
   "execution_count": null,
   "id": "3fd607df-6a7c-48b4-bbbc-d73b7c0cb933",
   "metadata": {},
   "outputs": [],
   "source": [
    "plt.imshow(img[:,:,::-1])"
   ]
  },
  {
   "cell_type": "code",
   "execution_count": 23,
   "id": "ec51141d-3de4-4e05-9223-1899daaee69c",
   "metadata": {},
   "outputs": [
    {
     "data": {
      "text/plain": [
       "True"
      ]
     },
     "execution_count": 23,
     "metadata": {},
     "output_type": "execute_result"
    }
   ],
   "source": [
    "cv2.imwrite('predicted.tif', img)"
   ]
  },
  {
   "cell_type": "code",
   "execution_count": null,
   "id": "85d805da-f250-4c48-be26-59d0d358a193",
   "metadata": {},
   "outputs": [],
   "source": []
  }
 ],
 "metadata": {
  "kernelspec": {
   "display_name": "Python 3 (ipykernel)",
   "language": "python",
   "name": "python3"
  },
  "language_info": {
   "codemirror_mode": {
    "name": "ipython",
    "version": 3
   },
   "file_extension": ".py",
   "mimetype": "text/x-python",
   "name": "python",
   "nbconvert_exporter": "python",
   "pygments_lexer": "ipython3",
   "version": "3.11.9"
  }
 },
 "nbformat": 4,
 "nbformat_minor": 5
}
